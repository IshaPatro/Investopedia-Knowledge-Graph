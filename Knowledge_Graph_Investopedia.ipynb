{
  "cells": [
    {
      "cell_type": "markdown",
      "metadata": {
        "id": "view-in-github",
        "colab_type": "text"
      },
      "source": [
        "<a href=\"https://colab.research.google.com/github/IshaPatro/Investopedia-Knowledge-Graph/blob/main/Knowledge_Graph_Investopedia.ipynb\" target=\"_parent\"><img src=\"https://colab.research.google.com/assets/colab-badge.svg\" alt=\"Open In Colab\"/></a>"
      ]
    },
    {
      "cell_type": "markdown",
      "metadata": {
        "id": "hNjMGmnfa1L5"
      },
      "source": [
        "# Dependencies"
      ]
    },
    {
      "cell_type": "code",
      "execution_count": null,
      "metadata": {
        "id": "Xv8hd0dF2XdA",
        "colab": {
          "base_uri": "https://localhost:8080/"
        },
        "collapsed": true,
        "outputId": "af6c0466-339f-428e-e355-f0fc30150a78"
      },
      "outputs": [
        {
          "output_type": "stream",
          "name": "stdout",
          "text": [
            "Requirement already satisfied: pip in /usr/local/lib/python3.10/dist-packages (24.1.2)\n",
            "\u001b[31mERROR: Could not find a version that satisfies the requirement install (from versions: none)\u001b[0m\u001b[31m\n",
            "\u001b[0m\u001b[31mERROR: No matching distribution found for install\u001b[0m\u001b[31m\n",
            "\u001b[0mRequirement already satisfied: pip in /usr/local/lib/python3.10/dist-packages (24.1.2)\n",
            "\u001b[31mERROR: Could not find a version that satisfies the requirement install (from versions: none)\u001b[0m\u001b[31m\n",
            "\u001b[0m\u001b[31mERROR: No matching distribution found for install\u001b[0m\u001b[31m\n",
            "\u001b[0mRequirement already satisfied: pip in /usr/local/lib/python3.10/dist-packages (24.1.2)\n",
            "Collecting cache\n",
            "  Downloading cache-1.0.3.tar.gz (2.7 kB)\n",
            "  Preparing metadata (setup.py) ... \u001b[?25l\u001b[?25hdone\n",
            "Collecting purge\n",
            "  Downloading purge-1.0-py3-none-any.whl.metadata (503 bytes)\n",
            "Downloading purge-1.0-py3-none-any.whl (1.5 kB)\n",
            "Building wheels for collected packages: cache\n",
            "  Building wheel for cache (setup.py) ... \u001b[?25l\u001b[?25hdone\n",
            "  Created wheel for cache: filename=cache-1.0.3-py3-none-any.whl size=3111 sha256=7a7aa3c97fc7396de8baeb3569207777ae400039982aa59f645452cb67afbcd1\n",
            "  Stored in directory: /root/.cache/pip/wheels/0f/63/b7/7e93d9dea4d2f8d94ea256489bcd4bbae5ef6c01c31198647d\n",
            "Successfully built cache\n",
            "Installing collected packages: purge, cache\n",
            "Successfully installed cache-1.0.3 purge-1.0\n",
            "Requirement already satisfied: pip in /usr/local/lib/python3.10/dist-packages (24.1.2)\n",
            "\u001b[31mERROR: Could not find a version that satisfies the requirement install (from versions: none)\u001b[0m\u001b[31m\n",
            "\u001b[0m\u001b[31mERROR: No matching distribution found for install\u001b[0m\u001b[31m\n",
            "\u001b[0mCollecting en-core-web-sm==3.7.1\n",
            "  Downloading https://github.com/explosion/spacy-models/releases/download/en_core_web_sm-3.7.1/en_core_web_sm-3.7.1-py3-none-any.whl (12.8 MB)\n",
            "\u001b[2K     \u001b[90m━━━━━━━━━━━━━━━━━━━━━━━━━━━━━━━━━━━━━━━━\u001b[0m \u001b[32m12.8/12.8 MB\u001b[0m \u001b[31m61.4 MB/s\u001b[0m eta \u001b[36m0:00:00\u001b[0m\n",
            "\u001b[?25hRequirement already satisfied: spacy<3.8.0,>=3.7.2 in /usr/local/lib/python3.10/dist-packages (from en-core-web-sm==3.7.1) (3.7.5)\n",
            "Requirement already satisfied: spacy-legacy<3.1.0,>=3.0.11 in /usr/local/lib/python3.10/dist-packages (from spacy<3.8.0,>=3.7.2->en-core-web-sm==3.7.1) (3.0.12)\n",
            "Requirement already satisfied: spacy-loggers<2.0.0,>=1.0.0 in /usr/local/lib/python3.10/dist-packages (from spacy<3.8.0,>=3.7.2->en-core-web-sm==3.7.1) (1.0.5)\n",
            "Requirement already satisfied: murmurhash<1.1.0,>=0.28.0 in /usr/local/lib/python3.10/dist-packages (from spacy<3.8.0,>=3.7.2->en-core-web-sm==3.7.1) (1.0.10)\n",
            "Requirement already satisfied: cymem<2.1.0,>=2.0.2 in /usr/local/lib/python3.10/dist-packages (from spacy<3.8.0,>=3.7.2->en-core-web-sm==3.7.1) (2.0.8)\n",
            "Requirement already satisfied: preshed<3.1.0,>=3.0.2 in /usr/local/lib/python3.10/dist-packages (from spacy<3.8.0,>=3.7.2->en-core-web-sm==3.7.1) (3.0.9)\n",
            "Requirement already satisfied: thinc<8.3.0,>=8.2.2 in /usr/local/lib/python3.10/dist-packages (from spacy<3.8.0,>=3.7.2->en-core-web-sm==3.7.1) (8.2.5)\n",
            "Requirement already satisfied: wasabi<1.2.0,>=0.9.1 in /usr/local/lib/python3.10/dist-packages (from spacy<3.8.0,>=3.7.2->en-core-web-sm==3.7.1) (1.1.3)\n",
            "Requirement already satisfied: srsly<3.0.0,>=2.4.3 in /usr/local/lib/python3.10/dist-packages (from spacy<3.8.0,>=3.7.2->en-core-web-sm==3.7.1) (2.4.8)\n",
            "Requirement already satisfied: catalogue<2.1.0,>=2.0.6 in /usr/local/lib/python3.10/dist-packages (from spacy<3.8.0,>=3.7.2->en-core-web-sm==3.7.1) (2.0.10)\n",
            "Requirement already satisfied: weasel<0.5.0,>=0.1.0 in /usr/local/lib/python3.10/dist-packages (from spacy<3.8.0,>=3.7.2->en-core-web-sm==3.7.1) (0.4.1)\n",
            "Requirement already satisfied: typer<1.0.0,>=0.3.0 in /usr/local/lib/python3.10/dist-packages (from spacy<3.8.0,>=3.7.2->en-core-web-sm==3.7.1) (0.12.3)\n",
            "Requirement already satisfied: tqdm<5.0.0,>=4.38.0 in /usr/local/lib/python3.10/dist-packages (from spacy<3.8.0,>=3.7.2->en-core-web-sm==3.7.1) (4.66.4)\n",
            "Requirement already satisfied: requests<3.0.0,>=2.13.0 in /usr/local/lib/python3.10/dist-packages (from spacy<3.8.0,>=3.7.2->en-core-web-sm==3.7.1) (2.31.0)\n",
            "Requirement already satisfied: pydantic!=1.8,!=1.8.1,<3.0.0,>=1.7.4 in /usr/local/lib/python3.10/dist-packages (from spacy<3.8.0,>=3.7.2->en-core-web-sm==3.7.1) (2.8.2)\n",
            "Requirement already satisfied: jinja2 in /usr/local/lib/python3.10/dist-packages (from spacy<3.8.0,>=3.7.2->en-core-web-sm==3.7.1) (3.1.4)\n",
            "Requirement already satisfied: setuptools in /usr/local/lib/python3.10/dist-packages (from spacy<3.8.0,>=3.7.2->en-core-web-sm==3.7.1) (71.0.4)\n",
            "Requirement already satisfied: packaging>=20.0 in /usr/local/lib/python3.10/dist-packages (from spacy<3.8.0,>=3.7.2->en-core-web-sm==3.7.1) (24.1)\n",
            "Requirement already satisfied: langcodes<4.0.0,>=3.2.0 in /usr/local/lib/python3.10/dist-packages (from spacy<3.8.0,>=3.7.2->en-core-web-sm==3.7.1) (3.4.0)\n",
            "Requirement already satisfied: numpy>=1.19.0 in /usr/local/lib/python3.10/dist-packages (from spacy<3.8.0,>=3.7.2->en-core-web-sm==3.7.1) (1.26.4)\n",
            "Requirement already satisfied: language-data>=1.2 in /usr/local/lib/python3.10/dist-packages (from langcodes<4.0.0,>=3.2.0->spacy<3.8.0,>=3.7.2->en-core-web-sm==3.7.1) (1.2.0)\n",
            "Requirement already satisfied: annotated-types>=0.4.0 in /usr/local/lib/python3.10/dist-packages (from pydantic!=1.8,!=1.8.1,<3.0.0,>=1.7.4->spacy<3.8.0,>=3.7.2->en-core-web-sm==3.7.1) (0.7.0)\n",
            "Requirement already satisfied: pydantic-core==2.20.1 in /usr/local/lib/python3.10/dist-packages (from pydantic!=1.8,!=1.8.1,<3.0.0,>=1.7.4->spacy<3.8.0,>=3.7.2->en-core-web-sm==3.7.1) (2.20.1)\n",
            "Requirement already satisfied: typing-extensions>=4.6.1 in /usr/local/lib/python3.10/dist-packages (from pydantic!=1.8,!=1.8.1,<3.0.0,>=1.7.4->spacy<3.8.0,>=3.7.2->en-core-web-sm==3.7.1) (4.12.2)\n",
            "Requirement already satisfied: charset-normalizer<4,>=2 in /usr/local/lib/python3.10/dist-packages (from requests<3.0.0,>=2.13.0->spacy<3.8.0,>=3.7.2->en-core-web-sm==3.7.1) (3.3.2)\n",
            "Requirement already satisfied: idna<4,>=2.5 in /usr/local/lib/python3.10/dist-packages (from requests<3.0.0,>=2.13.0->spacy<3.8.0,>=3.7.2->en-core-web-sm==3.7.1) (3.7)\n",
            "Requirement already satisfied: urllib3<3,>=1.21.1 in /usr/local/lib/python3.10/dist-packages (from requests<3.0.0,>=2.13.0->spacy<3.8.0,>=3.7.2->en-core-web-sm==3.7.1) (2.0.7)\n",
            "Requirement already satisfied: certifi>=2017.4.17 in /usr/local/lib/python3.10/dist-packages (from requests<3.0.0,>=2.13.0->spacy<3.8.0,>=3.7.2->en-core-web-sm==3.7.1) (2024.7.4)\n",
            "Requirement already satisfied: blis<0.8.0,>=0.7.8 in /usr/local/lib/python3.10/dist-packages (from thinc<8.3.0,>=8.2.2->spacy<3.8.0,>=3.7.2->en-core-web-sm==3.7.1) (0.7.11)\n",
            "Requirement already satisfied: confection<1.0.0,>=0.0.1 in /usr/local/lib/python3.10/dist-packages (from thinc<8.3.0,>=8.2.2->spacy<3.8.0,>=3.7.2->en-core-web-sm==3.7.1) (0.1.5)\n",
            "Requirement already satisfied: click>=8.0.0 in /usr/local/lib/python3.10/dist-packages (from typer<1.0.0,>=0.3.0->spacy<3.8.0,>=3.7.2->en-core-web-sm==3.7.1) (8.1.7)\n",
            "Requirement already satisfied: shellingham>=1.3.0 in /usr/local/lib/python3.10/dist-packages (from typer<1.0.0,>=0.3.0->spacy<3.8.0,>=3.7.2->en-core-web-sm==3.7.1) (1.5.4)\n",
            "Requirement already satisfied: rich>=10.11.0 in /usr/local/lib/python3.10/dist-packages (from typer<1.0.0,>=0.3.0->spacy<3.8.0,>=3.7.2->en-core-web-sm==3.7.1) (13.7.1)\n",
            "Requirement already satisfied: cloudpathlib<1.0.0,>=0.7.0 in /usr/local/lib/python3.10/dist-packages (from weasel<0.5.0,>=0.1.0->spacy<3.8.0,>=3.7.2->en-core-web-sm==3.7.1) (0.18.1)\n",
            "Requirement already satisfied: smart-open<8.0.0,>=5.2.1 in /usr/local/lib/python3.10/dist-packages (from weasel<0.5.0,>=0.1.0->spacy<3.8.0,>=3.7.2->en-core-web-sm==3.7.1) (7.0.4)\n",
            "Requirement already satisfied: MarkupSafe>=2.0 in /usr/local/lib/python3.10/dist-packages (from jinja2->spacy<3.8.0,>=3.7.2->en-core-web-sm==3.7.1) (2.1.5)\n",
            "Requirement already satisfied: marisa-trie>=0.7.7 in /usr/local/lib/python3.10/dist-packages (from language-data>=1.2->langcodes<4.0.0,>=3.2.0->spacy<3.8.0,>=3.7.2->en-core-web-sm==3.7.1) (1.2.0)\n",
            "Requirement already satisfied: markdown-it-py>=2.2.0 in /usr/local/lib/python3.10/dist-packages (from rich>=10.11.0->typer<1.0.0,>=0.3.0->spacy<3.8.0,>=3.7.2->en-core-web-sm==3.7.1) (3.0.0)\n",
            "Requirement already satisfied: pygments<3.0.0,>=2.13.0 in /usr/local/lib/python3.10/dist-packages (from rich>=10.11.0->typer<1.0.0,>=0.3.0->spacy<3.8.0,>=3.7.2->en-core-web-sm==3.7.1) (2.16.1)\n",
            "Requirement already satisfied: wrapt in /usr/local/lib/python3.10/dist-packages (from smart-open<8.0.0,>=5.2.1->weasel<0.5.0,>=0.1.0->spacy<3.8.0,>=3.7.2->en-core-web-sm==3.7.1) (1.16.0)\n",
            "Requirement already satisfied: mdurl~=0.1 in /usr/local/lib/python3.10/dist-packages (from markdown-it-py>=2.2.0->rich>=10.11.0->typer<1.0.0,>=0.3.0->spacy<3.8.0,>=3.7.2->en-core-web-sm==3.7.1) (0.1.2)\n",
            "\u001b[38;5;2m✔ Download and installation successful\u001b[0m\n",
            "You can now load the package via spacy.load('en_core_web_sm')\n",
            "\u001b[38;5;3m⚠ Restart to reload dependencies\u001b[0m\n",
            "If you are in a Jupyter or Colab notebook, you may need to restart Python in\n",
            "order to load all the package's dependencies. You can do this by selecting the\n",
            "'Restart kernel' or 'Restart runtime' option.\n",
            "Requirement already satisfied: pip in /usr/local/lib/python3.10/dist-packages (24.1.2)\n",
            "\u001b[31mERROR: Could not find a version that satisfies the requirement install (from versions: none)\u001b[0m\u001b[31m\n",
            "\u001b[0m\u001b[31mERROR: No matching distribution found for install\u001b[0m\u001b[31m\n",
            "\u001b[0mRequirement already satisfied: pip in /usr/local/lib/python3.10/dist-packages (24.1.2)\n",
            "\u001b[31mERROR: Could not find a version that satisfies the requirement install (from versions: none)\u001b[0m\u001b[31m\n",
            "\u001b[0m\u001b[31mERROR: No matching distribution found for install\u001b[0m\u001b[31m\n",
            "\u001b[0mRequirement already satisfied: pip in /usr/local/lib/python3.10/dist-packages (24.1.2)\n",
            "\u001b[31mERROR: Could not find a version that satisfies the requirement install (from versions: none)\u001b[0m\u001b[31m\n",
            "\u001b[0m\u001b[31mERROR: No matching distribution found for install\u001b[0m\u001b[31m\n",
            "\u001b[0mRequirement already satisfied: pip in /usr/local/lib/python3.10/dist-packages (24.1.2)\n",
            "\u001b[31mERROR: Could not find a version that satisfies the requirement install (from versions: none)\u001b[0m\u001b[31m\n",
            "\u001b[0m\u001b[31mERROR: No matching distribution found for install\u001b[0m\u001b[31m\n",
            "\u001b[0mRequirement already satisfied: pip in /usr/local/lib/python3.10/dist-packages (24.1.2)\n",
            "\u001b[31mERROR: Could not find a version that satisfies the requirement install (from versions: none)\u001b[0m\u001b[31m\n",
            "\u001b[0m\u001b[31mERROR: No matching distribution found for install\u001b[0m\u001b[31m\n",
            "\u001b[0mRequirement already satisfied: pip in /usr/local/lib/python3.10/dist-packages (24.1.2)\n",
            "\u001b[31mERROR: Could not find a version that satisfies the requirement install (from versions: none)\u001b[0m\u001b[31m\n",
            "\u001b[0m\u001b[31mERROR: No matching distribution found for install\u001b[0m\u001b[31m\n",
            "\u001b[0mRequirement already satisfied: pip in /usr/local/lib/python3.10/dist-packages (24.1.2)\n",
            "Collecting pip\n",
            "  Using cached pip-24.2-py3-none-any.whl.metadata (3.6 kB)\n",
            "\u001b[31mERROR: Could not find a version that satisfies the requirement install (from versions: none)\u001b[0m\u001b[31m\n",
            "\u001b[0m\u001b[31mERROR: No matching distribution found for install\u001b[0m\u001b[31m\n",
            "\u001b[0m\u001b[31mERROR: Could not open requirements file: [Errno 2] No such file or directory: 'requirements.txt'\u001b[0m\u001b[31m\n",
            "\u001b[0mRequirement already satisfied: pip in /usr/local/lib/python3.10/dist-packages (24.1.2)\n",
            "\u001b[31mERROR: Could not find a version that satisfies the requirement install (from versions: none)\u001b[0m\u001b[31m\n",
            "\u001b[0m\u001b[31mERROR: No matching distribution found for install\u001b[0m\u001b[31m\n",
            "\u001b[0mRequirement already satisfied: pip in /usr/local/lib/python3.10/dist-packages (24.1.2)\n",
            "\u001b[31mERROR: Could not find a version that satisfies the requirement install (from versions: none)\u001b[0m\u001b[31m\n",
            "\u001b[0m\u001b[31mERROR: No matching distribution found for install\u001b[0m\u001b[31m\n",
            "\u001b[0m"
          ]
        }
      ],
      "source": [
        "import sys\n",
        "\n",
        "!{sys.executable} -m pip install pip install pandas\n",
        "!{sys.executable} -m pip install pip install datasets\n",
        "!{sys.executable} -m pip install pip cache purge\n",
        "!{sys.executable} -m pip install pip install networkx\n",
        "!{sys.executable} -m spacy download en_core_web_sm\n",
        "!{sys.executable} -m pip install pip install transformers torch\n",
        "!{sys.executable} -m pip install pip install sentence-transformers\n",
        "!{sys.executable} -m pip install pip install transformers datasets pandas torch\n",
        "!{sys.executable} -m pip install pip install xz\n",
        "!{sys.executable} -m pip install pip install lzma\n",
        "!{sys.executable} -m pip install pip install pylzma\n",
        "!{sys.executable} -m pip install pip install --upgrade datasets\n",
        "!{sys.executable} -m pip install pip install -r requirements.txt;\n",
        "!{sys.executable} -m pip install pip install transformers\n",
        "!{sys.executable} -m pip install pip install mpld3"
      ]
    },
    {
      "cell_type": "markdown",
      "metadata": {
        "id": "mzQt7mGYa1L8"
      },
      "source": [
        "# Fetch Scraped Investopedia Data"
      ]
    },
    {
      "cell_type": "code",
      "execution_count": null,
      "metadata": {
        "id": "n3r6hhXda1L8"
      },
      "outputs": [],
      "source": [
        "import pandas as pd"
      ]
    },
    {
      "cell_type": "code",
      "execution_count": null,
      "metadata": {
        "colab": {
          "base_uri": "https://localhost:8080/",
          "height": 293
        },
        "id": "7h_sYqaEa1L8",
        "outputId": "7e51503e-d92d-4388-cf06-7a5f8ba5fad6"
      },
      "outputs": [
        {
          "output_type": "execute_result",
          "data": {
            "text/plain": [
              "                                                Term  \\\n",
              "0  10-K: Definition, What's Included, Instruction...   \n",
              "1      10-K Wrap: What It Is, How It Works, Elements   \n",
              "2  10-Year US Treasury Note: What It Is and Inves...   \n",
              "3  What Does 1%/10 Net 30 Mean in a Bill's Paymen...   \n",
              "4    0x Protocol: What it Means, How it Works, Goals   \n",
              "\n",
              "                                          Definition  \\\n",
              "0  A 10-K is a comprehensive report filed annuall...   \n",
              "1  A 10-K wrap is part of a larger annual perform...   \n",
              "2  Treasury notes (T-notes) have maturities of up...   \n",
              "3  A 1%/10 net 30 deal is when a 1% discount is o...   \n",
              "4  The 0x protocol is an open protocol that enabl...   \n",
              "\n",
              "                                                 URL  \n",
              "0      https://www.investopedia.com/terms/1/10-k.asp  \n",
              "1  https://www.investopedia.com/terms/1/10k-wrap.asp  \n",
              "2  https://www.investopedia.com/terms/1/10-yeartr...  \n",
              "3  https://www.investopedia.com/terms/1/1-10net30...  \n",
              "4  https://www.investopedia.com/terms/1/0x-protoc...  "
            ],
            "text/html": [
              "\n",
              "  <div id=\"df-f5fb62f4-2000-4545-8e36-e363aa7b820d\" class=\"colab-df-container\">\n",
              "    <div>\n",
              "<style scoped>\n",
              "    .dataframe tbody tr th:only-of-type {\n",
              "        vertical-align: middle;\n",
              "    }\n",
              "\n",
              "    .dataframe tbody tr th {\n",
              "        vertical-align: top;\n",
              "    }\n",
              "\n",
              "    .dataframe thead th {\n",
              "        text-align: right;\n",
              "    }\n",
              "</style>\n",
              "<table border=\"1\" class=\"dataframe\">\n",
              "  <thead>\n",
              "    <tr style=\"text-align: right;\">\n",
              "      <th></th>\n",
              "      <th>Term</th>\n",
              "      <th>Definition</th>\n",
              "      <th>URL</th>\n",
              "    </tr>\n",
              "  </thead>\n",
              "  <tbody>\n",
              "    <tr>\n",
              "      <th>0</th>\n",
              "      <td>10-K: Definition, What's Included, Instruction...</td>\n",
              "      <td>A 10-K is a comprehensive report filed annuall...</td>\n",
              "      <td>https://www.investopedia.com/terms/1/10-k.asp</td>\n",
              "    </tr>\n",
              "    <tr>\n",
              "      <th>1</th>\n",
              "      <td>10-K Wrap: What It Is, How It Works, Elements</td>\n",
              "      <td>A 10-K wrap is part of a larger annual perform...</td>\n",
              "      <td>https://www.investopedia.com/terms/1/10k-wrap.asp</td>\n",
              "    </tr>\n",
              "    <tr>\n",
              "      <th>2</th>\n",
              "      <td>10-Year US Treasury Note: What It Is and Inves...</td>\n",
              "      <td>Treasury notes (T-notes) have maturities of up...</td>\n",
              "      <td>https://www.investopedia.com/terms/1/10-yeartr...</td>\n",
              "    </tr>\n",
              "    <tr>\n",
              "      <th>3</th>\n",
              "      <td>What Does 1%/10 Net 30 Mean in a Bill's Paymen...</td>\n",
              "      <td>A 1%/10 net 30 deal is when a 1% discount is o...</td>\n",
              "      <td>https://www.investopedia.com/terms/1/1-10net30...</td>\n",
              "    </tr>\n",
              "    <tr>\n",
              "      <th>4</th>\n",
              "      <td>0x Protocol: What it Means, How it Works, Goals</td>\n",
              "      <td>The 0x protocol is an open protocol that enabl...</td>\n",
              "      <td>https://www.investopedia.com/terms/1/0x-protoc...</td>\n",
              "    </tr>\n",
              "  </tbody>\n",
              "</table>\n",
              "</div>\n",
              "    <div class=\"colab-df-buttons\">\n",
              "\n",
              "  <div class=\"colab-df-container\">\n",
              "    <button class=\"colab-df-convert\" onclick=\"convertToInteractive('df-f5fb62f4-2000-4545-8e36-e363aa7b820d')\"\n",
              "            title=\"Convert this dataframe to an interactive table.\"\n",
              "            style=\"display:none;\">\n",
              "\n",
              "  <svg xmlns=\"http://www.w3.org/2000/svg\" height=\"24px\" viewBox=\"0 -960 960 960\">\n",
              "    <path d=\"M120-120v-720h720v720H120Zm60-500h600v-160H180v160Zm220 220h160v-160H400v160Zm0 220h160v-160H400v160ZM180-400h160v-160H180v160Zm440 0h160v-160H620v160ZM180-180h160v-160H180v160Zm440 0h160v-160H620v160Z\"/>\n",
              "  </svg>\n",
              "    </button>\n",
              "\n",
              "  <style>\n",
              "    .colab-df-container {\n",
              "      display:flex;\n",
              "      gap: 12px;\n",
              "    }\n",
              "\n",
              "    .colab-df-convert {\n",
              "      background-color: #E8F0FE;\n",
              "      border: none;\n",
              "      border-radius: 50%;\n",
              "      cursor: pointer;\n",
              "      display: none;\n",
              "      fill: #1967D2;\n",
              "      height: 32px;\n",
              "      padding: 0 0 0 0;\n",
              "      width: 32px;\n",
              "    }\n",
              "\n",
              "    .colab-df-convert:hover {\n",
              "      background-color: #E2EBFA;\n",
              "      box-shadow: 0px 1px 2px rgba(60, 64, 67, 0.3), 0px 1px 3px 1px rgba(60, 64, 67, 0.15);\n",
              "      fill: #174EA6;\n",
              "    }\n",
              "\n",
              "    .colab-df-buttons div {\n",
              "      margin-bottom: 4px;\n",
              "    }\n",
              "\n",
              "    [theme=dark] .colab-df-convert {\n",
              "      background-color: #3B4455;\n",
              "      fill: #D2E3FC;\n",
              "    }\n",
              "\n",
              "    [theme=dark] .colab-df-convert:hover {\n",
              "      background-color: #434B5C;\n",
              "      box-shadow: 0px 1px 3px 1px rgba(0, 0, 0, 0.15);\n",
              "      filter: drop-shadow(0px 1px 2px rgba(0, 0, 0, 0.3));\n",
              "      fill: #FFFFFF;\n",
              "    }\n",
              "  </style>\n",
              "\n",
              "    <script>\n",
              "      const buttonEl =\n",
              "        document.querySelector('#df-f5fb62f4-2000-4545-8e36-e363aa7b820d button.colab-df-convert');\n",
              "      buttonEl.style.display =\n",
              "        google.colab.kernel.accessAllowed ? 'block' : 'none';\n",
              "\n",
              "      async function convertToInteractive(key) {\n",
              "        const element = document.querySelector('#df-f5fb62f4-2000-4545-8e36-e363aa7b820d');\n",
              "        const dataTable =\n",
              "          await google.colab.kernel.invokeFunction('convertToInteractive',\n",
              "                                                    [key], {});\n",
              "        if (!dataTable) return;\n",
              "\n",
              "        const docLinkHtml = 'Like what you see? Visit the ' +\n",
              "          '<a target=\"_blank\" href=https://colab.research.google.com/notebooks/data_table.ipynb>data table notebook</a>'\n",
              "          + ' to learn more about interactive tables.';\n",
              "        element.innerHTML = '';\n",
              "        dataTable['output_type'] = 'display_data';\n",
              "        await google.colab.output.renderOutput(dataTable, element);\n",
              "        const docLink = document.createElement('div');\n",
              "        docLink.innerHTML = docLinkHtml;\n",
              "        element.appendChild(docLink);\n",
              "      }\n",
              "    </script>\n",
              "  </div>\n",
              "\n",
              "\n",
              "<div id=\"df-95146657-3f34-4f26-8411-8c1e9b483f6b\">\n",
              "  <button class=\"colab-df-quickchart\" onclick=\"quickchart('df-95146657-3f34-4f26-8411-8c1e9b483f6b')\"\n",
              "            title=\"Suggest charts\"\n",
              "            style=\"display:none;\">\n",
              "\n",
              "<svg xmlns=\"http://www.w3.org/2000/svg\" height=\"24px\"viewBox=\"0 0 24 24\"\n",
              "     width=\"24px\">\n",
              "    <g>\n",
              "        <path d=\"M19 3H5c-1.1 0-2 .9-2 2v14c0 1.1.9 2 2 2h14c1.1 0 2-.9 2-2V5c0-1.1-.9-2-2-2zM9 17H7v-7h2v7zm4 0h-2V7h2v10zm4 0h-2v-4h2v4z\"/>\n",
              "    </g>\n",
              "</svg>\n",
              "  </button>\n",
              "\n",
              "<style>\n",
              "  .colab-df-quickchart {\n",
              "      --bg-color: #E8F0FE;\n",
              "      --fill-color: #1967D2;\n",
              "      --hover-bg-color: #E2EBFA;\n",
              "      --hover-fill-color: #174EA6;\n",
              "      --disabled-fill-color: #AAA;\n",
              "      --disabled-bg-color: #DDD;\n",
              "  }\n",
              "\n",
              "  [theme=dark] .colab-df-quickchart {\n",
              "      --bg-color: #3B4455;\n",
              "      --fill-color: #D2E3FC;\n",
              "      --hover-bg-color: #434B5C;\n",
              "      --hover-fill-color: #FFFFFF;\n",
              "      --disabled-bg-color: #3B4455;\n",
              "      --disabled-fill-color: #666;\n",
              "  }\n",
              "\n",
              "  .colab-df-quickchart {\n",
              "    background-color: var(--bg-color);\n",
              "    border: none;\n",
              "    border-radius: 50%;\n",
              "    cursor: pointer;\n",
              "    display: none;\n",
              "    fill: var(--fill-color);\n",
              "    height: 32px;\n",
              "    padding: 0;\n",
              "    width: 32px;\n",
              "  }\n",
              "\n",
              "  .colab-df-quickchart:hover {\n",
              "    background-color: var(--hover-bg-color);\n",
              "    box-shadow: 0 1px 2px rgba(60, 64, 67, 0.3), 0 1px 3px 1px rgba(60, 64, 67, 0.15);\n",
              "    fill: var(--button-hover-fill-color);\n",
              "  }\n",
              "\n",
              "  .colab-df-quickchart-complete:disabled,\n",
              "  .colab-df-quickchart-complete:disabled:hover {\n",
              "    background-color: var(--disabled-bg-color);\n",
              "    fill: var(--disabled-fill-color);\n",
              "    box-shadow: none;\n",
              "  }\n",
              "\n",
              "  .colab-df-spinner {\n",
              "    border: 2px solid var(--fill-color);\n",
              "    border-color: transparent;\n",
              "    border-bottom-color: var(--fill-color);\n",
              "    animation:\n",
              "      spin 1s steps(1) infinite;\n",
              "  }\n",
              "\n",
              "  @keyframes spin {\n",
              "    0% {\n",
              "      border-color: transparent;\n",
              "      border-bottom-color: var(--fill-color);\n",
              "      border-left-color: var(--fill-color);\n",
              "    }\n",
              "    20% {\n",
              "      border-color: transparent;\n",
              "      border-left-color: var(--fill-color);\n",
              "      border-top-color: var(--fill-color);\n",
              "    }\n",
              "    30% {\n",
              "      border-color: transparent;\n",
              "      border-left-color: var(--fill-color);\n",
              "      border-top-color: var(--fill-color);\n",
              "      border-right-color: var(--fill-color);\n",
              "    }\n",
              "    40% {\n",
              "      border-color: transparent;\n",
              "      border-right-color: var(--fill-color);\n",
              "      border-top-color: var(--fill-color);\n",
              "    }\n",
              "    60% {\n",
              "      border-color: transparent;\n",
              "      border-right-color: var(--fill-color);\n",
              "    }\n",
              "    80% {\n",
              "      border-color: transparent;\n",
              "      border-right-color: var(--fill-color);\n",
              "      border-bottom-color: var(--fill-color);\n",
              "    }\n",
              "    90% {\n",
              "      border-color: transparent;\n",
              "      border-bottom-color: var(--fill-color);\n",
              "    }\n",
              "  }\n",
              "</style>\n",
              "\n",
              "  <script>\n",
              "    async function quickchart(key) {\n",
              "      const quickchartButtonEl =\n",
              "        document.querySelector('#' + key + ' button');\n",
              "      quickchartButtonEl.disabled = true;  // To prevent multiple clicks.\n",
              "      quickchartButtonEl.classList.add('colab-df-spinner');\n",
              "      try {\n",
              "        const charts = await google.colab.kernel.invokeFunction(\n",
              "            'suggestCharts', [key], {});\n",
              "      } catch (error) {\n",
              "        console.error('Error during call to suggestCharts:', error);\n",
              "      }\n",
              "      quickchartButtonEl.classList.remove('colab-df-spinner');\n",
              "      quickchartButtonEl.classList.add('colab-df-quickchart-complete');\n",
              "    }\n",
              "    (() => {\n",
              "      let quickchartButtonEl =\n",
              "        document.querySelector('#df-95146657-3f34-4f26-8411-8c1e9b483f6b button');\n",
              "      quickchartButtonEl.style.display =\n",
              "        google.colab.kernel.accessAllowed ? 'block' : 'none';\n",
              "    })();\n",
              "  </script>\n",
              "</div>\n",
              "\n",
              "    </div>\n",
              "  </div>\n"
            ],
            "application/vnd.google.colaboratory.intrinsic+json": {
              "type": "dataframe",
              "variable_name": "df",
              "summary": "{\n  \"name\": \"df\",\n  \"rows\": 3539,\n  \"fields\": [\n    {\n      \"column\": \"Term\",\n      \"properties\": {\n        \"dtype\": \"string\",\n        \"num_unique_values\": 3532,\n        \"samples\": [\n          \"Average Inventory: Definition, Calculation Formula, Example\",\n          \"What Is a Naked (Uncovered or Short) Put and How Does It Work?\",\n          \"Manipulation: Definition, Methods, Types, and Example\"\n        ],\n        \"semantic_type\": \"\",\n        \"description\": \"\"\n      }\n    },\n    {\n      \"column\": \"Definition\",\n      \"properties\": {\n        \"dtype\": \"string\",\n        \"num_unique_values\": 3477,\n        \"samples\": [\n          \"A mortgage broker is a financial intermediary who matches home borrowers with potential lenders in order to obtain the best possible mortgage terms for the borrower./nA mortgage broker can save a borrower time and effort during the application process, and potentially a lot of money over the life of the loan./nMortgage brokers earn commissions, known as origination fees, based on the size of the loan, and may work independently or as an employee of a larger mortgage brokerage firm./nYou don't have to work with a mortgage broker to get a mortgage./nHowever, some lenders only work with mortgage brokers so a broker may be a good option when seeking a home loan.\",\n          \"Exchanges are marketplaces for the trade of securities, commodities, derivatives, and other financial instruments./nCompanies may use an exchange to raise capital./nA company must have at least $4 million in shareholder's equity to be listed on the New York Stock Exchange./nMore than 80% of trading on the New York Stock Exchange is done electronically./nThe New York Stock Exchange has been around since 1792.\",\n          \"The Automated Clearing House (ACH) is an electronic funds-transfer system that facilitates payments in the U.S. and internationally./nThe ACH is run by Nacha./nRecent rule changes enable most credit and debit transactions made through the ACH to clear on the same business day./nACH transactions make transferring money quick and easy./nBanks may limit the amount you can transfer and impose fees.\"\n        ],\n        \"semantic_type\": \"\",\n        \"description\": \"\"\n      }\n    },\n    {\n      \"column\": \"URL\",\n      \"properties\": {\n        \"dtype\": \"string\",\n        \"num_unique_values\": 3531,\n        \"samples\": [\n          \"https://www.investopedia.com/terms/a/average-inventory.asp\",\n          \"https://www.investopedia.com/terms/n/nakedcall.asp\",\n          \"https://www.investopedia.com/terms/m/manipulation.asp\"\n        ],\n        \"semantic_type\": \"\",\n        \"description\": \"\"\n      }\n    }\n  ]\n}"
            }
          },
          "metadata": {},
          "execution_count": 7
        }
      ],
      "source": [
        "df = pd.read_csv('investopediaScrapper.csv')\n",
        "df.head()"
      ]
    },
    {
      "cell_type": "markdown",
      "metadata": {
        "id": "gcUL5PAXa1L9"
      },
      "source": [
        "# Select Topic"
      ]
    },
    {
      "cell_type": "code",
      "execution_count": null,
      "metadata": {
        "colab": {
          "base_uri": "https://localhost:8080/"
        },
        "id": "gD04Viuda1L9",
        "outputId": "cc8a99a4-d3fb-4faf-ae01-5b8ee7c84257"
      },
      "outputs": [
        {
          "output_type": "stream",
          "name": "stdout",
          "text": [
            "Enter the Topic for Knowledge Graph: Coupon\n",
            "Entered title %s -  Coupon\n"
          ]
        }
      ],
      "source": [
        "topic = input('Enter the Topic for Knowledge Graph: ')\n",
        "print(f\"Entered title %s - \",topic)"
      ]
    },
    {
      "cell_type": "code",
      "execution_count": null,
      "metadata": {
        "colab": {
          "base_uri": "https://localhost:8080/",
          "height": 276
        },
        "id": "pw926Ow2a1L9",
        "outputId": "ba9481b3-bb47-42db-ca1b-50df11582436"
      },
      "outputs": [
        {
          "output_type": "execute_result",
          "data": {
            "text/plain": [
              "                                                  Term  \\\n",
              "36     48-Hour Rule: What It is, How It Works, Example   \n",
              "429  Bearer Share: Definition, Example, Risks, and ...   \n",
              "430  Bearer Bond: Definition, How It Works, and Why...   \n",
              "506             Bonds: How They Work and How To Invest   \n",
              "507  Bond Discount: Definition, Example, Vs. Premiu...   \n",
              "\n",
              "                                            Definition  \\\n",
              "36   The 48-hour rule refers to a part of the mortg...   \n",
              "429  Bearer shares are unregistered equity securiti...   \n",
              "430  A bearer bond is a physical certificate with c...   \n",
              "506  A bond is referred to as a fixed-income instru...   \n",
              "507  Bond discount is the amount by which the marke...   \n",
              "\n",
              "                                                   URL  \n",
              "36   https://www.investopedia.com/terms/1/48-hour-r...  \n",
              "429  https://www.investopedia.com/terms/b/bearer_sh...  \n",
              "430  https://www.investopedia.com/terms/b/bearer_bo...  \n",
              "506      https://www.investopedia.com/terms/b/bond.asp  \n",
              "507  https://www.investopedia.com/terms/b/bond-disc...  "
            ],
            "text/html": [
              "\n",
              "  <div id=\"df-6cc40a85-0345-48ec-b554-abfc432ac27e\" class=\"colab-df-container\">\n",
              "    <div>\n",
              "<style scoped>\n",
              "    .dataframe tbody tr th:only-of-type {\n",
              "        vertical-align: middle;\n",
              "    }\n",
              "\n",
              "    .dataframe tbody tr th {\n",
              "        vertical-align: top;\n",
              "    }\n",
              "\n",
              "    .dataframe thead th {\n",
              "        text-align: right;\n",
              "    }\n",
              "</style>\n",
              "<table border=\"1\" class=\"dataframe\">\n",
              "  <thead>\n",
              "    <tr style=\"text-align: right;\">\n",
              "      <th></th>\n",
              "      <th>Term</th>\n",
              "      <th>Definition</th>\n",
              "      <th>URL</th>\n",
              "    </tr>\n",
              "  </thead>\n",
              "  <tbody>\n",
              "    <tr>\n",
              "      <th>36</th>\n",
              "      <td>48-Hour Rule: What It is, How It Works, Example</td>\n",
              "      <td>The 48-hour rule refers to a part of the mortg...</td>\n",
              "      <td>https://www.investopedia.com/terms/1/48-hour-r...</td>\n",
              "    </tr>\n",
              "    <tr>\n",
              "      <th>429</th>\n",
              "      <td>Bearer Share: Definition, Example, Risks, and ...</td>\n",
              "      <td>Bearer shares are unregistered equity securiti...</td>\n",
              "      <td>https://www.investopedia.com/terms/b/bearer_sh...</td>\n",
              "    </tr>\n",
              "    <tr>\n",
              "      <th>430</th>\n",
              "      <td>Bearer Bond: Definition, How It Works, and Why...</td>\n",
              "      <td>A bearer bond is a physical certificate with c...</td>\n",
              "      <td>https://www.investopedia.com/terms/b/bearer_bo...</td>\n",
              "    </tr>\n",
              "    <tr>\n",
              "      <th>506</th>\n",
              "      <td>Bonds: How They Work and How To Invest</td>\n",
              "      <td>A bond is referred to as a fixed-income instru...</td>\n",
              "      <td>https://www.investopedia.com/terms/b/bond.asp</td>\n",
              "    </tr>\n",
              "    <tr>\n",
              "      <th>507</th>\n",
              "      <td>Bond Discount: Definition, Example, Vs. Premiu...</td>\n",
              "      <td>Bond discount is the amount by which the marke...</td>\n",
              "      <td>https://www.investopedia.com/terms/b/bond-disc...</td>\n",
              "    </tr>\n",
              "  </tbody>\n",
              "</table>\n",
              "</div>\n",
              "    <div class=\"colab-df-buttons\">\n",
              "\n",
              "  <div class=\"colab-df-container\">\n",
              "    <button class=\"colab-df-convert\" onclick=\"convertToInteractive('df-6cc40a85-0345-48ec-b554-abfc432ac27e')\"\n",
              "            title=\"Convert this dataframe to an interactive table.\"\n",
              "            style=\"display:none;\">\n",
              "\n",
              "  <svg xmlns=\"http://www.w3.org/2000/svg\" height=\"24px\" viewBox=\"0 -960 960 960\">\n",
              "    <path d=\"M120-120v-720h720v720H120Zm60-500h600v-160H180v160Zm220 220h160v-160H400v160Zm0 220h160v-160H400v160ZM180-400h160v-160H180v160Zm440 0h160v-160H620v160ZM180-180h160v-160H180v160Zm440 0h160v-160H620v160Z\"/>\n",
              "  </svg>\n",
              "    </button>\n",
              "\n",
              "  <style>\n",
              "    .colab-df-container {\n",
              "      display:flex;\n",
              "      gap: 12px;\n",
              "    }\n",
              "\n",
              "    .colab-df-convert {\n",
              "      background-color: #E8F0FE;\n",
              "      border: none;\n",
              "      border-radius: 50%;\n",
              "      cursor: pointer;\n",
              "      display: none;\n",
              "      fill: #1967D2;\n",
              "      height: 32px;\n",
              "      padding: 0 0 0 0;\n",
              "      width: 32px;\n",
              "    }\n",
              "\n",
              "    .colab-df-convert:hover {\n",
              "      background-color: #E2EBFA;\n",
              "      box-shadow: 0px 1px 2px rgba(60, 64, 67, 0.3), 0px 1px 3px 1px rgba(60, 64, 67, 0.15);\n",
              "      fill: #174EA6;\n",
              "    }\n",
              "\n",
              "    .colab-df-buttons div {\n",
              "      margin-bottom: 4px;\n",
              "    }\n",
              "\n",
              "    [theme=dark] .colab-df-convert {\n",
              "      background-color: #3B4455;\n",
              "      fill: #D2E3FC;\n",
              "    }\n",
              "\n",
              "    [theme=dark] .colab-df-convert:hover {\n",
              "      background-color: #434B5C;\n",
              "      box-shadow: 0px 1px 3px 1px rgba(0, 0, 0, 0.15);\n",
              "      filter: drop-shadow(0px 1px 2px rgba(0, 0, 0, 0.3));\n",
              "      fill: #FFFFFF;\n",
              "    }\n",
              "  </style>\n",
              "\n",
              "    <script>\n",
              "      const buttonEl =\n",
              "        document.querySelector('#df-6cc40a85-0345-48ec-b554-abfc432ac27e button.colab-df-convert');\n",
              "      buttonEl.style.display =\n",
              "        google.colab.kernel.accessAllowed ? 'block' : 'none';\n",
              "\n",
              "      async function convertToInteractive(key) {\n",
              "        const element = document.querySelector('#df-6cc40a85-0345-48ec-b554-abfc432ac27e');\n",
              "        const dataTable =\n",
              "          await google.colab.kernel.invokeFunction('convertToInteractive',\n",
              "                                                    [key], {});\n",
              "        if (!dataTable) return;\n",
              "\n",
              "        const docLinkHtml = 'Like what you see? Visit the ' +\n",
              "          '<a target=\"_blank\" href=https://colab.research.google.com/notebooks/data_table.ipynb>data table notebook</a>'\n",
              "          + ' to learn more about interactive tables.';\n",
              "        element.innerHTML = '';\n",
              "        dataTable['output_type'] = 'display_data';\n",
              "        await google.colab.output.renderOutput(dataTable, element);\n",
              "        const docLink = document.createElement('div');\n",
              "        docLink.innerHTML = docLinkHtml;\n",
              "        element.appendChild(docLink);\n",
              "      }\n",
              "    </script>\n",
              "  </div>\n",
              "\n",
              "\n",
              "<div id=\"df-fae07e37-fe47-41bd-87df-12d74174bb5a\">\n",
              "  <button class=\"colab-df-quickchart\" onclick=\"quickchart('df-fae07e37-fe47-41bd-87df-12d74174bb5a')\"\n",
              "            title=\"Suggest charts\"\n",
              "            style=\"display:none;\">\n",
              "\n",
              "<svg xmlns=\"http://www.w3.org/2000/svg\" height=\"24px\"viewBox=\"0 0 24 24\"\n",
              "     width=\"24px\">\n",
              "    <g>\n",
              "        <path d=\"M19 3H5c-1.1 0-2 .9-2 2v14c0 1.1.9 2 2 2h14c1.1 0 2-.9 2-2V5c0-1.1-.9-2-2-2zM9 17H7v-7h2v7zm4 0h-2V7h2v10zm4 0h-2v-4h2v4z\"/>\n",
              "    </g>\n",
              "</svg>\n",
              "  </button>\n",
              "\n",
              "<style>\n",
              "  .colab-df-quickchart {\n",
              "      --bg-color: #E8F0FE;\n",
              "      --fill-color: #1967D2;\n",
              "      --hover-bg-color: #E2EBFA;\n",
              "      --hover-fill-color: #174EA6;\n",
              "      --disabled-fill-color: #AAA;\n",
              "      --disabled-bg-color: #DDD;\n",
              "  }\n",
              "\n",
              "  [theme=dark] .colab-df-quickchart {\n",
              "      --bg-color: #3B4455;\n",
              "      --fill-color: #D2E3FC;\n",
              "      --hover-bg-color: #434B5C;\n",
              "      --hover-fill-color: #FFFFFF;\n",
              "      --disabled-bg-color: #3B4455;\n",
              "      --disabled-fill-color: #666;\n",
              "  }\n",
              "\n",
              "  .colab-df-quickchart {\n",
              "    background-color: var(--bg-color);\n",
              "    border: none;\n",
              "    border-radius: 50%;\n",
              "    cursor: pointer;\n",
              "    display: none;\n",
              "    fill: var(--fill-color);\n",
              "    height: 32px;\n",
              "    padding: 0;\n",
              "    width: 32px;\n",
              "  }\n",
              "\n",
              "  .colab-df-quickchart:hover {\n",
              "    background-color: var(--hover-bg-color);\n",
              "    box-shadow: 0 1px 2px rgba(60, 64, 67, 0.3), 0 1px 3px 1px rgba(60, 64, 67, 0.15);\n",
              "    fill: var(--button-hover-fill-color);\n",
              "  }\n",
              "\n",
              "  .colab-df-quickchart-complete:disabled,\n",
              "  .colab-df-quickchart-complete:disabled:hover {\n",
              "    background-color: var(--disabled-bg-color);\n",
              "    fill: var(--disabled-fill-color);\n",
              "    box-shadow: none;\n",
              "  }\n",
              "\n",
              "  .colab-df-spinner {\n",
              "    border: 2px solid var(--fill-color);\n",
              "    border-color: transparent;\n",
              "    border-bottom-color: var(--fill-color);\n",
              "    animation:\n",
              "      spin 1s steps(1) infinite;\n",
              "  }\n",
              "\n",
              "  @keyframes spin {\n",
              "    0% {\n",
              "      border-color: transparent;\n",
              "      border-bottom-color: var(--fill-color);\n",
              "      border-left-color: var(--fill-color);\n",
              "    }\n",
              "    20% {\n",
              "      border-color: transparent;\n",
              "      border-left-color: var(--fill-color);\n",
              "      border-top-color: var(--fill-color);\n",
              "    }\n",
              "    30% {\n",
              "      border-color: transparent;\n",
              "      border-left-color: var(--fill-color);\n",
              "      border-top-color: var(--fill-color);\n",
              "      border-right-color: var(--fill-color);\n",
              "    }\n",
              "    40% {\n",
              "      border-color: transparent;\n",
              "      border-right-color: var(--fill-color);\n",
              "      border-top-color: var(--fill-color);\n",
              "    }\n",
              "    60% {\n",
              "      border-color: transparent;\n",
              "      border-right-color: var(--fill-color);\n",
              "    }\n",
              "    80% {\n",
              "      border-color: transparent;\n",
              "      border-right-color: var(--fill-color);\n",
              "      border-bottom-color: var(--fill-color);\n",
              "    }\n",
              "    90% {\n",
              "      border-color: transparent;\n",
              "      border-bottom-color: var(--fill-color);\n",
              "    }\n",
              "  }\n",
              "</style>\n",
              "\n",
              "  <script>\n",
              "    async function quickchart(key) {\n",
              "      const quickchartButtonEl =\n",
              "        document.querySelector('#' + key + ' button');\n",
              "      quickchartButtonEl.disabled = true;  // To prevent multiple clicks.\n",
              "      quickchartButtonEl.classList.add('colab-df-spinner');\n",
              "      try {\n",
              "        const charts = await google.colab.kernel.invokeFunction(\n",
              "            'suggestCharts', [key], {});\n",
              "      } catch (error) {\n",
              "        console.error('Error during call to suggestCharts:', error);\n",
              "      }\n",
              "      quickchartButtonEl.classList.remove('colab-df-spinner');\n",
              "      quickchartButtonEl.classList.add('colab-df-quickchart-complete');\n",
              "    }\n",
              "    (() => {\n",
              "      let quickchartButtonEl =\n",
              "        document.querySelector('#df-fae07e37-fe47-41bd-87df-12d74174bb5a button');\n",
              "      quickchartButtonEl.style.display =\n",
              "        google.colab.kernel.accessAllowed ? 'block' : 'none';\n",
              "    })();\n",
              "  </script>\n",
              "</div>\n",
              "\n",
              "    </div>\n",
              "  </div>\n"
            ],
            "application/vnd.google.colaboratory.intrinsic+json": {
              "type": "dataframe",
              "variable_name": "df",
              "summary": "{\n  \"name\": \"df\",\n  \"rows\": 25,\n  \"fields\": [\n    {\n      \"column\": \"Term\",\n      \"properties\": {\n        \"dtype\": \"string\",\n        \"num_unique_values\": 25,\n        \"samples\": [\n          \"Bond Yield: What It Is, Why It Matters, and How It's Calculated\",\n          \"What Is Effective Yield? Definition, Calculation, and Example\",\n          \"48-Hour Rule: What It is, How It Works, Example\"\n        ],\n        \"semantic_type\": \"\",\n        \"description\": \"\"\n      }\n    },\n    {\n      \"column\": \"Definition\",\n      \"properties\": {\n        \"dtype\": \"string\",\n        \"num_unique_values\": 25,\n        \"samples\": [\n          \"Bond yield is the return an investor realizes on an investment in a bond./nA bond can be purchased for more than its face value, at a premium, or less than its face value, at a discount./nThe current yield is the bond's coupon rate divided by its market price./nPrice and yield are inversely related and as the price of a bond goes up, its yield goes down.\",\n          \"The effective yield is calculated as the bond\\u2019s coupon payments divided by the bond\\u2019s current market value/nEffective yield assumes coupon payments are reinvested. Reinvested coupons mean the effective yield of a bond is higher than the nominal (stated coupon) yield./nTo compare a bond's effective yield and its yield-to-maturity, the effective yield must be converted to an effective annual yield./nBonds trading with an effective yield higher than the yield-to-maturity sell at a premium. If the effective yield is lower than the yield-to-maturity, the bond trades at a discount.\",\n          \"The 48-hour rule refers to a part of the mortgage allocation process related to the buying and selling of to-be-announced (TBA) mortgage-backed securities (MBS)./nThe 48-hour rule stipulates that the seller of an MBS notifies the buyer with the details of the underlying mortgages that make up the MBS by 3 p.m. Eastern Time, 48 hours before the settlement date./nThe\\u00a0Securities Industry and Financial Markets Association (SIFMA) enforces the 48-hour rule./nWhen an MBS is traded in the secondary market, the underlying mortgages are not known, which helps facilitate trading and liquidity./nCertain information is agreed upon when an MBS trade is made, such as the price, par, and coupon, but not the underlying mortgages./nThe TBA market is the second most traded secondary market after the U.S. Treasury market.\"\n        ],\n        \"semantic_type\": \"\",\n        \"description\": \"\"\n      }\n    },\n    {\n      \"column\": \"URL\",\n      \"properties\": {\n        \"dtype\": \"string\",\n        \"num_unique_values\": 25,\n        \"samples\": [\n          \"https://www.investopedia.com/terms/b/bond-yield.asp\",\n          \"https://www.investopedia.com/terms/e/effectiveyield.asp\",\n          \"https://www.investopedia.com/terms/1/48-hour-rule.asp\"\n        ],\n        \"semantic_type\": \"\",\n        \"description\": \"\"\n      }\n    }\n  ]\n}"
            }
          },
          "metadata": {},
          "execution_count": 9
        }
      ],
      "source": [
        "df = df[(df['Term'].str.contains(topic, case=False)) | (df['Definition'].str.contains(topic, case=False))]\n",
        "df.head()"
      ]
    },
    {
      "cell_type": "code",
      "execution_count": null,
      "metadata": {
        "colab": {
          "base_uri": "https://localhost:8080/"
        },
        "id": "WxPTGMQYa1L-",
        "outputId": "3b1f6dc0-30be-42b1-8d3d-eb9c0db26aa4"
      },
      "outputs": [
        {
          "output_type": "stream",
          "name": "stderr",
          "text": [
            "<ipython-input-10-4b5d1f35721f>:1: SettingWithCopyWarning: \n",
            "A value is trying to be set on a copy of a slice from a DataFrame.\n",
            "Try using .loc[row_indexer,col_indexer] = value instead\n",
            "\n",
            "See the caveats in the documentation: https://pandas.pydata.org/pandas-docs/stable/user_guide/indexing.html#returning-a-view-versus-a-copy\n",
            "  df['Term'] = df['Term'].str.split(':').str[0]\n",
            "<ipython-input-10-4b5d1f35721f>:2: SettingWithCopyWarning: \n",
            "A value is trying to be set on a copy of a slice from a DataFrame.\n",
            "Try using .loc[row_indexer,col_indexer] = value instead\n",
            "\n",
            "See the caveats in the documentation: https://pandas.pydata.org/pandas-docs/stable/user_guide/indexing.html#returning-a-view-versus-a-copy\n",
            "  df['Term'] = df['Term'].str.split('?').str[0]\n"
          ]
        },
        {
          "output_type": "execute_result",
          "data": {
            "text/plain": [
              "75"
            ]
          },
          "metadata": {},
          "execution_count": 10
        }
      ],
      "source": [
        "df['Term'] = df['Term'].str.split(':').str[0]\n",
        "df['Term'] = df['Term'].str.split('?').str[0]\n",
        "df.size"
      ]
    },
    {
      "cell_type": "markdown",
      "metadata": {
        "id": "TfR93n_Da1L-"
      },
      "source": [
        "# Pretrain Model"
      ]
    },
    {
      "cell_type": "code",
      "execution_count": 17,
      "metadata": {
        "id": "MTFFqfaGa1L-"
      },
      "outputs": [],
      "source": [
        "import pandas as pd\n",
        "\n",
        "trainingDf = pd.read_csv('FineTuneModel.csv')\n",
        "trainingDf = trainingDf.to_json('training_data.json', orient='records', lines=True)\n",
        "trainingDf"
      ]
    },
    {
      "cell_type": "code",
      "execution_count": 18,
      "metadata": {
        "colab": {
          "base_uri": "https://localhost:8080/"
        },
        "id": "ooneq22Za1L-",
        "outputId": "7458dcef-855b-44c9-c298-f1d28d6e65b7"
      },
      "outputs": [
        {
          "output_type": "stream",
          "name": "stderr",
          "text": [
            "Some weights of BertForTokenClassification were not initialized from the model checkpoint at bert-base-uncased and are newly initialized: ['classifier.bias', 'classifier.weight']\n",
            "You should probably TRAIN this model on a down-stream task to be able to use it for predictions and inference.\n"
          ]
        }
      ],
      "source": [
        "from transformers import AutoTokenizer, AutoModelForTokenClassification\n",
        "tokenizer = AutoTokenizer.from_pretrained('bert-base-uncased')\n",
        "model = AutoModelForTokenClassification.from_pretrained('bert-base-uncased')"
      ]
    },
    {
      "cell_type": "code",
      "source": [
        "import json\n",
        "import torch\n",
        "from torch.utils.data import Dataset\n",
        "from transformers import Trainer, TrainingArguments, AutoTokenizer, AutoModelForSequenceClassification\n",
        "import pandas as pd\n",
        "\n",
        "class RelationshipDataset(Dataset):\n",
        "    def __init__(self, file_path, tokenizer):\n",
        "        self.data = []\n",
        "        self.tokenizer = tokenizer\n",
        "\n",
        "        with open(file_path, 'r') as file:\n",
        "            for line in file:\n",
        "                item = json.loads(line)\n",
        "                if all(key in item for key in ('Definition', 'Head', 'Relation', 'Tail')):\n",
        "                    text = f\"{item['Definition']} {item['Head']} {item['Relation']} {item['Tail']}\"\n",
        "                    self.data.append({\"text\": text, \"label\": item.get('label', 0)})\n",
        "                else:\n",
        "                    print(f\"Missing columns in item: {item}\")\n",
        "\n",
        "    def __len__(self):\n",
        "        return len(self.data)\n",
        "\n",
        "    def __getitem__(self, idx):\n",
        "        item = self.data[idx]\n",
        "        inputs = self.tokenizer(\n",
        "            item['text'],\n",
        "            padding='max_length',\n",
        "            truncation=True,\n",
        "            return_tensors=\"pt\"\n",
        "        )\n",
        "        inputs = {key: val.squeeze() for key, val in inputs.items()}\n",
        "        inputs['labels'] = torch.tensor(item['label'])\n",
        "        return inputs\n",
        "\n",
        "\n",
        "tokenizer = AutoTokenizer.from_pretrained('bert-base-uncased')\n",
        "train_dataset = RelationshipDataset('training_data.json', tokenizer)\n",
        "model = AutoModelForSequenceClassification.from_pretrained('bert-base-uncased', num_labels=2)\n",
        "\n",
        "training_args = TrainingArguments(\n",
        "    output_dir='./results',\n",
        "    evaluation_strategy=\"no\",\n",
        "    learning_rate=2e-5,\n",
        "    per_device_train_batch_size=8,\n",
        "    per_device_eval_batch_size=8,\n",
        "    num_train_epochs=3,\n",
        "    weight_decay=0.01,\n",
        ")\n",
        "\n",
        "trainer = Trainer(\n",
        "    model=model,\n",
        "    args=training_args,\n",
        "    train_dataset=train_dataset,\n",
        ")\n",
        "\n",
        "trainer.train()\n"
      ],
      "metadata": {
        "colab": {
          "base_uri": "https://localhost:8080/",
          "height": 225
        },
        "id": "1_mXmuxOeJjZ",
        "outputId": "409de14e-e38f-4ece-e0cb-460acc7eb428"
      },
      "execution_count": null,
      "outputs": [
        {
          "metadata": {
            "tags": null
          },
          "name": "stderr",
          "output_type": "stream",
          "text": [
            "Some weights of BertForSequenceClassification were not initialized from the model checkpoint at bert-base-uncased and are newly initialized: ['classifier.bias', 'classifier.weight']\n",
            "You should probably TRAIN this model on a down-stream task to be able to use it for predictions and inference.\n",
            "/usr/local/lib/python3.10/dist-packages/transformers/training_args.py:1494: FutureWarning: `evaluation_strategy` is deprecated and will be removed in version 4.46 of 🤗 Transformers. Use `eval_strategy` instead\n",
            "  warnings.warn(\n"
          ]
        },
        {
          "data": {
            "text/html": [
              "\n",
              "    <div>\n",
              "      \n",
              "      <progress value='108' max='111' style='width:300px; height:20px; vertical-align: middle;'></progress>\n",
              "      [108/111 1:34:32 < 02:40, 0.02 it/s, Epoch 2.89/3]\n",
              "    </div>\n",
              "    <table border=\"1\" class=\"dataframe\">\n",
              "  <thead>\n",
              " <tr style=\"text-align: left;\">\n",
              "      <th>Step</th>\n",
              "      <th>Training Loss</th>\n",
              "    </tr>\n",
              "  </thead>\n",
              "  <tbody>\n",
              "  </tbody>\n",
              "</table><p>"
            ],
            "text/plain": [
              "<IPython.core.display.HTML object>"
            ]
          },
          "metadata": {},
          "output_type": "display_data"
        },
        {
          "output_type": "display_data",
          "data": {
            "text/plain": [
              "<IPython.core.display.HTML object>"
            ],
            "text/html": [
              "\n",
              "    <div>\n",
              "      \n",
              "      <progress value='110' max='111' style='width:300px; height:20px; vertical-align: middle;'></progress>\n",
              "      [110/111 1:36:16 < 00:53, 0.02 it/s, Epoch 2.95/3]\n",
              "    </div>\n",
              "    <table border=\"1\" class=\"dataframe\">\n",
              "  <thead>\n",
              " <tr style=\"text-align: left;\">\n",
              "      <th>Step</th>\n",
              "      <th>Training Loss</th>\n",
              "    </tr>\n",
              "  </thead>\n",
              "  <tbody>\n",
              "  </tbody>\n",
              "</table><p>"
            ]
          },
          "metadata": {}
        }
      ]
    },
    {
      "cell_type": "code",
      "source": [
        "model.save_pretrained('./results')\n",
        "tokenizer.save_pretrained('./results')"
      ],
      "metadata": {
        "id": "375Bex2-gpq8"
      },
      "execution_count": null,
      "outputs": []
    },
    {
      "cell_type": "markdown",
      "source": [],
      "metadata": {
        "id": "O3V8-epmhTnK"
      }
    },
    {
      "cell_type": "markdown",
      "metadata": {
        "id": "RqTxtf1Oa1L-"
      },
      "source": [
        "# Uncovering Relationships with LLM Models"
      ]
    },
    {
      "cell_type": "code",
      "execution_count": null,
      "metadata": {
        "id": "S-S52882a1L-"
      },
      "outputs": [],
      "source": [
        "import pandas as pd\n",
        "from transformers import pipeline"
      ]
    },
    {
      "cell_type": "code",
      "source": [
        "import pandas as pd\n",
        "from transformers import pipeline, AutoModelForTokenClassification, AutoTokenizer\n",
        "\n",
        "model_path = './results'\n",
        "tokenizer_path = 'bert-base-uncased'\n",
        "\n",
        "model = AutoModelForTokenClassification.from_pretrained(model_path)\n",
        "tokenizer = AutoTokenizer.from_pretrained(tokenizer_path)\n",
        "\n",
        "nli_pipeline = pipeline('zero-shot-classification', model=model, tokenizer=tokenizer)\n",
        "qa_pipeline = pipeline('question-answering', model='distilbert-base-cased-distilled-squad')\n",
        "\n",
        "def extract_relationships(term, definition, threshold=0.2):\n",
        "    try:\n",
        "        isrelated_statement = f\"The definition '{definition}' is related to the term '{term}'.\"\n",
        "        labels = [\"yes\", \"no\"]\n",
        "        result = nli_pipeline(isrelated_statement, candidate_labels=labels)\n",
        "\n",
        "        if result['scores'][0] >= threshold and result['labels'][0] == 'yes':\n",
        "            tail_question = f\"Identify the tail for definition: {definition}. Ensure the term is a noun phrase. Limit the response to 5 words.\"\n",
        "            tail = qa_pipeline(question=tail_question, context=definition)\n",
        "\n",
        "            relationship_question = f\"Describe the relationship between head: '{term}' and tail: '{tail['answer']}' with a single word. This word should be a verb or an adjective.\"\n",
        "            relationship = qa_pipeline(question=relationship_question, context=definition)\n",
        "\n",
        "            return {\n",
        "                'Head': term,\n",
        "                'Relation': relationship['answer'],\n",
        "                'Tail': tail['answer']\n",
        "            }\n",
        "    except Exception as e:\n",
        "        print(f\"Error: {e}\")\n",
        "        return None\n",
        "\n",
        "# Extract relationships\n",
        "relation_data = []\n",
        "\n",
        "for index, row in df.iterrows():\n",
        "    term = row['Term']\n",
        "    definitions = str(row['Definition']).split('\\n')\n",
        "    for definition in definitions:\n",
        "        relationship = extract_relationships(term, definition)\n",
        "        if relationship:\n",
        "            relation_data.append(relationship)\n",
        "\n",
        "\n",
        "relation_data = [entry for entry in relation_data if entry is not None]\n",
        "relation_df = pd.DataFrame(relation_data).dropna().reset_index(drop=True)\n",
        "relation_df.head(20)\n"
      ],
      "metadata": {
        "id": "VPIlX68n5szs"
      },
      "execution_count": null,
      "outputs": []
    },
    {
      "cell_type": "code",
      "source": [
        "relation_df.head()"
      ],
      "metadata": {
        "id": "7j-LzKYFhYuy"
      },
      "execution_count": null,
      "outputs": []
    },
    {
      "cell_type": "code",
      "execution_count": null,
      "metadata": {
        "id": "n5_SMxc1a1L_"
      },
      "outputs": [],
      "source": [
        "relation_df = relation_df.applymap(lambda x: x.replace('\\n', '') if isinstance(x, str) else x)\n",
        "\n",
        "relation_df['is_duplicate'] = relation_df.apply(lambda row:\n",
        "    (row['Head'].lower() == row['Relation'].lower()) or\n",
        "    (row['Head'].lower() == row['Tail'].lower()) or\n",
        "    (row['Relation'].lower() == row['Tail'].lower()),\n",
        "    axis=1\n",
        ")\n",
        "relation_df = relation_df[~relation_df['is_duplicate']]\n",
        "\n",
        "relation_df = relation_df.drop(columns=['is_duplicate'])\n",
        "\n",
        "relation_df['Head'] = relation_df['Head'].str.split(':').str[0]\n",
        "relation_df['Head'] = relation_df['Head'].str.split('?').str[0]\n",
        "relation_df"
      ]
    },
    {
      "cell_type": "code",
      "execution_count": 25,
      "metadata": {
        "id": "SUfuNa6na1L_",
        "colab": {
          "base_uri": "https://localhost:8080/"
        },
        "outputId": "6d1beaad-4ded-4328-a370-6709f263fdee"
      },
      "outputs": [
        {
          "data": {
            "text/plain": [
              "12"
            ]
          },
          "execution_count": 25,
          "metadata": {},
          "output_type": "execute_result"
        }
      ],
      "source": [
        "relation_df.size"
      ]
    },
    {
      "cell_type": "code",
      "execution_count": null,
      "metadata": {
        "id": "pEA9HU8Ja1L_"
      },
      "outputs": [],
      "source": [
        "topicsCovered = len(relation_df['Head'].unique())\n",
        "print(f'Number of topics to be covered: {topicsCovered}')"
      ]
    },
    {
      "cell_type": "markdown",
      "metadata": {
        "id": "GXnT5ftHa1L_"
      },
      "source": [
        "# Knowledge Graph"
      ]
    },
    {
      "cell_type": "code",
      "execution_count": 26,
      "metadata": {
        "id": "ln0Pnujps3b4",
        "colab": {
          "base_uri": "https://localhost:8080/"
        },
        "outputId": "1cd3a03c-5d82-493b-c2c7-ce22f63baa3e"
      },
      "outputs": [
        {
          "metadata": {
            "tags": null
          },
          "name": "stdout",
          "output_type": "stream",
          "text": [
            "Requirement already satisfied: mpld3 in /usr/local/lib/python3.10/dist-packages (0.5.10)\n",
            "Requirement already satisfied: jinja2 in /usr/local/lib/python3.10/dist-packages (from mpld3) (3.1.4)\n",
            "Requirement already satisfied: matplotlib in /usr/local/lib/python3.10/dist-packages (from mpld3) (3.7.1)\n",
            "Requirement already satisfied: MarkupSafe>=2.0 in /usr/local/lib/python3.10/dist-packages (from jinja2->mpld3) (2.1.5)\n",
            "Requirement already satisfied: contourpy>=1.0.1 in /usr/local/lib/python3.10/dist-packages (from matplotlib->mpld3) (1.2.1)\n",
            "Requirement already satisfied: cycler>=0.10 in /usr/local/lib/python3.10/dist-packages (from matplotlib->mpld3) (0.12.1)\n",
            "Requirement already satisfied: fonttools>=4.22.0 in /usr/local/lib/python3.10/dist-packages (from matplotlib->mpld3) (4.53.1)\n",
            "Requirement already satisfied: kiwisolver>=1.0.1 in /usr/local/lib/python3.10/dist-packages (from matplotlib->mpld3) (1.4.5)\n",
            "Requirement already satisfied: numpy>=1.20 in /usr/local/lib/python3.10/dist-packages (from matplotlib->mpld3) (1.26.4)\n",
            "Requirement already satisfied: packaging>=20.0 in /usr/local/lib/python3.10/dist-packages (from matplotlib->mpld3) (24.1)\n",
            "Requirement already satisfied: pillow>=6.2.0 in /usr/local/lib/python3.10/dist-packages (from matplotlib->mpld3) (9.4.0)\n",
            "Requirement already satisfied: pyparsing>=2.3.1 in /usr/local/lib/python3.10/dist-packages (from matplotlib->mpld3) (3.1.2)\n",
            "Requirement already satisfied: python-dateutil>=2.7 in /usr/local/lib/python3.10/dist-packages (from matplotlib->mpld3) (2.8.2)\n",
            "Requirement already satisfied: six>=1.5 in /usr/local/lib/python3.10/dist-packages (from python-dateutil>=2.7->matplotlib->mpld3) (1.16.0)\n"
          ]
        }
      ],
      "source": [
        "!pip install mpld3\n",
        "import os\n",
        "import networkx as nx\n",
        "import matplotlib.pyplot as plt\n",
        "import mpld3\n",
        "from mpld3 import plugins\n",
        "import networkx as nx\n",
        "import pandas as pd\n",
        "import random\n",
        "import matplotlib.pyplot as plt"
      ]
    },
    {
      "cell_type": "code",
      "execution_count": 31,
      "metadata": {
        "id": "gz3cHOcfXPFH"
      },
      "outputs": [],
      "source": [
        "G = nx.Graph()\n",
        "for _, row in relation_df.iterrows():\n",
        "  G.add_edge(row['Head'], row['Tail'], label=row['Relation'])"
      ]
    },
    {
      "cell_type": "code",
      "execution_count": 33,
      "metadata": {
        "id": "WtMaP0gV6uyl",
        "colab": {
          "base_uri": "https://localhost:8080/",
          "height": 715
        },
        "outputId": "d2c3e8e9-5bd8-4d01-fc45-de41d561775f"
      },
      "outputs": [
        {
          "output_type": "display_data",
          "data": {
            "text/plain": [
              "<Figure size 2000x1000 with 1 Axes>"
            ],
            "image/png": "[encoded data removed]"
          },
          "metadata": {}
        },
        {
          "output_type": "execute_result",
          "data": {
            "text/plain": [
              "768"
            ]
          },
          "metadata": {},
          "execution_count": 33
        }
      ],
      "source": [
        "def random_color():\n",
        "    return [random.random() for _ in range(3)]\n",
        "\n",
        "node_colors = [random_color() for _ in range(len(G.nodes))]\n",
        "pos = nx.spring_layout(G, seed=42, k=0.9)\n",
        "labels = nx.get_edge_attributes(G, 'label')\n",
        "\n",
        "fig, ax = plt.subplots(figsize=(20, 10))\n",
        "fig.patch.set_facecolor('black')\n",
        "ax.set_facecolor('black')\n",
        "nx.draw(G, pos, with_labels=True, font_size=10, node_size=700, node_color=node_colors, edge_color='white', alpha=0.6, ax=ax, font_color='white')\n",
        "\n",
        "for (n1, n2), label in labels.items():\n",
        "    x1, y1 = pos[n1]\n",
        "    x2, y2 = pos[n2]\n",
        "    x, y = (x1 + x2) / 2, (y1 + y2) / 2\n",
        "    plt.text(x, y, label, fontsize=8, color='white', ha='center', va='center', bbox=dict(facecolor='black', edgecolor='none', pad=1))\n",
        "\n",
        "plt.title(topic, color='white')\n",
        "ax.spines['top'].set_color('black')\n",
        "ax.spines['bottom'].set_color('black')\n",
        "ax.spines['left'].set_color('black')\n",
        "ax.spines['right'].set_color('black')\n",
        "\n",
        "ax.xaxis.set_ticks([])\n",
        "ax.yaxis.set_ticks([])\n",
        "ax.xaxis.label.set_color('white')\n",
        "ax.yaxis.label.set_color('white')\n",
        "\n",
        "ax.tick_params(axis='x', colors='white')\n",
        "ax.tick_params(axis='y', colors='white')\n",
        "ax.grid(False)\n",
        "\n",
        "\n",
        "fig.patch.set_facecolor('black')\n",
        "ax.set_facecolor('black')\n",
        "image_path = f'{topic}.png'\n",
        "plt.savefig(image_path, facecolor=fig.get_facecolor())\n",
        "plt.show()\n",
        "os.system(f'xdg-open {image_path}')"
      ]
    },
    {
      "cell_type": "code",
      "execution_count": 34,
      "metadata": {
        "id": "f3Yi5NqVbqlc",
        "colab": {
          "base_uri": "https://localhost:8080/"
        },
        "outputId": "a51c2b1f-7502-4d8c-cf04-97237a93fed7"
      },
      "outputs": [
        {
          "output_type": "stream",
          "name": "stdout",
          "text": [
            "Number of nodes: 23\n",
            "Number of edges: 13\n",
            "Ratio edges to nodes: 0.57\n"
          ]
        }
      ],
      "source": [
        "num_nodes = G.number_of_nodes()\n",
        "num_edges = G.number_of_edges()\n",
        "node_names = list(G.nodes())\n",
        "print(f'Number of nodes: {num_nodes}')\n",
        "print(f'Number of edges: {num_edges}')\n",
        "print(f'Ratio edges to nodes: {round(num_edges / num_nodes, 2)}')"
      ]
    },
    {
      "cell_type": "markdown",
      "metadata": {
        "id": "P0fXisFca1MA"
      },
      "source": [
        "# Store Data in Obsidian"
      ]
    },
    {
      "cell_type": "code",
      "execution_count": 39,
      "metadata": {
        "id": "XLoKqNUXa1MA"
      },
      "outputs": [],
      "source": [
        "vault_path = f'/Users/isha/Documents/Obsidian/{topic}/{topic})'"
      ]
    },
    {
      "cell_type": "code",
      "execution_count": null,
      "metadata": {
        "id": "ayfLNqWLa1MA"
      },
      "outputs": [],
      "source": [
        "for file in os.listdir(vault_path):\n",
        "    if file.endswith(\".md\"):\n",
        "        os.remove(os.path.join(vault_path, file))"
      ]
    },
    {
      "cell_type": "code",
      "execution_count": null,
      "metadata": {
        "id": "A6Tu-iv-a1MA"
      },
      "outputs": [],
      "source": [
        "import os\n",
        "\n",
        "for index, row in df.iterrows():\n",
        "    if row['Term'] in relation_df['Head'].values:\n",
        "        file_name = f\"{row['Term'].replace(' ', '_').replace('/', '_').replace(':', '_')}.md\"\n",
        "        definition_lines = row['Definition'].split('/n')\n",
        "        bullet_points = '\\n'.join(f\"* {line}\" for line in definition_lines)\n",
        "        tag = \"#HeadWithDefinition\"\n",
        "        file_content = f\"# {row['Term']}\\n\\n{bullet_points}\\n\\n[More Info]({row['URL']})\\n\\n{tag}\"\n",
        "        file_path = os.path.join(vault_path, file_name)\n",
        "        try:\n",
        "            with open(file_path, 'w') as file:\n",
        "                file.write(file_content)\n",
        "        except OSError as e:\n",
        "            print(f\"Error writing to file {file_path}: {str(e)}\")\n"
      ]
    },
    {
      "cell_type": "code",
      "execution_count": null,
      "metadata": {
        "id": "wUTiK5ofa1MA"
      },
      "outputs": [],
      "source": [
        "for Tail in relation_df['Tail'].unique():\n",
        "    Tail_df = relation_df[relation_df['Tail'] == Tail]\n",
        "    content = f\"# {Tail}\\n\\n### Links to Heads\\n\"\n",
        "    for index, row in Tail_df.iterrows():\n",
        "        Head_file_name = row['Head'].replace(\" \", \"_\").replace(\"\\n\", \"\").replace(\"/\", \"_\") + \".md\"\n",
        "        content += f\"- {row['Relation']} [[{Head_file_name}|{row['Head']}]]\\n\"\n",
        "\n",
        "    tag = \"#Tail\"\n",
        "    content += f\"\\n\\n{tag}\"\n",
        "\n",
        "    Tail_file_name = Tail.replace(' ', '_').replace(\"\\n\", \"\").replace(\"/\", \"_\")\n",
        "    file_path = os.path.join(vault_path, f\"{Tail_file_name}.md\")\n",
        "    try:\n",
        "        with open(file_path, 'w') as file:\n",
        "            file.write(content)\n",
        "    except OSError as e:\n",
        "        print(f\"Error writing to file {file_path}: {str(e)}\")\n"
      ]
    },
    {
      "cell_type": "code",
      "source": [],
      "metadata": {
        "id": "wGWK-5QzbVQo"
      },
      "execution_count": null,
      "outputs": []
    }
  ],
  "metadata": {
    "colab": {
      "provenance": [],
      "include_colab_link": true
    },
    "kernelspec": {
      "display_name": "Python 3 (ipykernel)",
      "language": "python",
      "name": "python3"
    },
    "language_info": {
      "codemirror_mode": {
        "name": "ipython",
        "version": 3
      },
      "file_extension": ".py",
      "mimetype": "text/x-python",
      "name": "python",
      "nbconvert_exporter": "python",
      "pygments_lexer": "ipython3",
      "version": "3.10.10"
    }
  },
  "nbformat": 4,
  "nbformat_minor": 0
}