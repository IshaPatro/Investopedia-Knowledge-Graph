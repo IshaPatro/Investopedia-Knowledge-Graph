{
  "nbformat": 4,
  "nbformat_minor": 0,
  "metadata": {
    "colab": {
      "provenance": [],
      "authorship_tag": "ABX9TyMbTDftDWsxRYe9RnIUdwBM",
      "include_colab_link": true
    },
    "kernelspec": {
      "name": "python3",
      "display_name": "Python 3"
    },
    "language_info": {
      "name": "python"
    }
  },
  "cells": [
    {
      "cell_type": "markdown",
      "metadata": {
        "id": "view-in-github",
        "colab_type": "text"
      },
      "source": [
        "<a href=\"https://colab.research.google.com/github/IshaPatro/Investopedia-Knowledge-Graph/blob/main/Scrape_Investopedia_Data.ipynb\" target=\"_parent\"><img src=\"https://colab.research.google.com/assets/colab-badge.svg\" alt=\"Open In Colab\"/></a>"
      ]
    },
    {
      "cell_type": "code",
      "source": [
        "import sys\n",
        "!{sys.executable} -m pip install pip install python-slugify\n",
        "!{sys.executable} -m pip install pip install bs4"
      ],
      "metadata": {
        "colab": {
          "base_uri": "https://localhost:8080/"
        },
        "id": "34qDy7N_6cKk",
        "outputId": "749795e3-a16b-4427-d1ce-3aa2c0a2111e"
      },
      "execution_count": 11,
      "outputs": [
        {
          "output_type": "stream",
          "name": "stdout",
          "text": [
            "Requirement already satisfied: pip in /usr/local/lib/python3.10/dist-packages (23.1.2)\n",
            "Requirement already satisfied: install in /usr/local/lib/python3.10/dist-packages (1.3.5)\n",
            "Requirement already satisfied: python-slugify in /usr/local/lib/python3.10/dist-packages (8.0.4)\n",
            "Requirement already satisfied: text-unidecode>=1.3 in /usr/local/lib/python3.10/dist-packages (from python-slugify) (1.3)\n",
            "Requirement already satisfied: pip in /usr/local/lib/python3.10/dist-packages (23.1.2)\n",
            "Requirement already satisfied: install in /usr/local/lib/python3.10/dist-packages (1.3.5)\n",
            "Requirement already satisfied: bs4 in /usr/local/lib/python3.10/dist-packages (0.0.2)\n",
            "Requirement already satisfied: beautifulsoup4 in /usr/local/lib/python3.10/dist-packages (from bs4) (4.12.3)\n",
            "Requirement already satisfied: soupsieve>1.2 in /usr/local/lib/python3.10/dist-packages (from beautifulsoup4->bs4) (2.5)\n"
          ]
        }
      ]
    },
    {
      "cell_type": "code",
      "source": [
        "import requests, random, logging, urllib.request, json\n",
        "from bs4 import BeautifulSoup\n",
        "from tqdm import tqdm\n",
        "from slugify import slugify\n",
        "import requests\n",
        "import pandas as pd\n",
        "import concurrent.futures\n",
        "import requests\n",
        "from bs4 import BeautifulSoup\n",
        "import concurrent.futures\n",
        "import os\n",
        "import csv\n",
        "import time"
      ],
      "metadata": {
        "id": "-x0s-aAP6Z3e"
      },
      "execution_count": 12,
      "outputs": []
    },
    {
      "cell_type": "code",
      "source": [
        "url = 'https://www.investopedia.com/financial-term-dictionary-4769738'\n",
        "headers = {\n",
        "    'User-Agent': 'Mozilla/5.0 (Windows NT 10.0; Win64; x64) AppleWebKit/537.36 (KHTML, like Gecko) Chrome/91.0.4472.124 Safari/537.36'\n",
        "}\n",
        "\n",
        "response = requests.get(url, headers=headers)\n",
        "if response.status_code == 200:\n",
        "    print(\"Successfully fetched the page\")\n",
        "else:\n",
        "    print(f\"Failed to fetch the page, status code: {response.status_code}\")\n",
        "    exit()\n",
        "\n",
        "soup = BeautifulSoup(response.text, 'html.parser')\n",
        "url_elements = soup.find_all('a', class_='dictionary-top24-list__complete-listing-link')\n",
        "urls = [el['href'] for el in url_elements]\n",
        "\n",
        "for url in urls:\n",
        "    print(url)"
      ],
      "metadata": {
        "colab": {
          "base_uri": "https://localhost:8080/"
        },
        "id": "nooroo8Z6Vfw",
        "outputId": "905bed48-c707-432b-c3a1-1089e9de34d1"
      },
      "execution_count": 13,
      "outputs": [
        {
          "output_type": "stream",
          "name": "stdout",
          "text": [
            "Successfully fetched the page\n",
            "https://www.investopedia.com/terms-beginning-with-num-4769350\n",
            "https://www.investopedia.com/terms-beginning-with-a-4769351\n",
            "https://www.investopedia.com/terms-beginning-with-b-4769352\n",
            "https://www.investopedia.com/terms-beginning-with-c-4769353\n",
            "https://www.investopedia.com/terms-beginning-with-d-4769354\n",
            "https://www.investopedia.com/terms-beginning-with-e-4769355\n",
            "https://www.investopedia.com/terms-beginning-with-f-4769356\n",
            "https://www.investopedia.com/terms-beginning-with-g-4769357\n",
            "https://www.investopedia.com/terms-beginning-with-h-4769358\n",
            "https://www.investopedia.com/terms-beginning-with-i-4769359\n",
            "https://www.investopedia.com/terms-beginning-with-j-4769360\n",
            "https://www.investopedia.com/terms-beginning-with-k-4769361\n",
            "https://www.investopedia.com/terms-beginning-with-l-4769362\n",
            "https://www.investopedia.com/terms-beginning-with-m-4769363\n",
            "https://www.investopedia.com/terms-beginning-with-n-4769364\n",
            "https://www.investopedia.com/terms-beginning-with-o-4769365\n",
            "https://www.investopedia.com/terms-beginning-with-p-4769366\n",
            "https://www.investopedia.com/terms-beginning-with-q-4769367\n",
            "https://www.investopedia.com/terms-beginning-with-r-4769368\n",
            "https://www.investopedia.com/terms-beginning-with-s-4769369\n",
            "https://www.investopedia.com/terms-beginning-with-t-4769370\n",
            "https://www.investopedia.com/terms-beginning-with-u-4769371\n",
            "https://www.investopedia.com/terms-beginning-with-v-4769372\n",
            "https://www.investopedia.com/terms-beginning-with-w-4769373\n",
            "https://www.investopedia.com/terms-beginning-with-x-4769374\n",
            "https://www.investopedia.com/terms-beginning-with-y-4769375\n",
            "https://www.investopedia.com/terms-beginning-with-z-4769376\n"
          ]
        }
      ]
    },
    {
      "cell_type": "code",
      "source": [
        "sublist_urls = []\n",
        "\n",
        "for url in urls:\n",
        "    resp = requests.get(url)\n",
        "    if resp.status_code == 200:\n",
        "        page_soup = BeautifulSoup(resp.text, 'html.parser')\n",
        "        sublist_url_elements = page_soup.find_all('a', class_='dictionary-top300-list__list mntl-text-link')\n",
        "        sublist_urls.extend([el['href'] for el in sublist_url_elements])"
      ],
      "metadata": {
        "id": "0sw3jxQ66P5w"
      },
      "execution_count": 14,
      "outputs": []
    },
    {
      "cell_type": "code",
      "source": [
        "all_data = []\n",
        "\n",
        "def fetch_and_process(sublist_url):\n",
        "    retries = 3\n",
        "    for attempt in range(retries):\n",
        "        try:\n",
        "            sublist_response = requests.get(sublist_url, headers={\n",
        "                'User-Agent': 'Mozilla/5.0 (Windows NT 10.0; Win64; x64) AppleWebKit/537.36 (KHTML, like Gecko) Chrome/91.0.4472.124 Safari/537.36'\n",
        "            })\n",
        "            if sublist_response.status_code == 200:\n",
        "                page_soup = BeautifulSoup(sublist_response.text, 'html.parser')\n",
        "                div = page_soup.find('div', id='mntl-sc-block-callout-body_1-0')\n",
        "                if div:\n",
        "                    list_items = div.find_all('li')\n",
        "                    definitions = [li.get_text(strip=True) for li in list_items]\n",
        "                    header = page_soup.find('h1', class_='comp article-heading mntl-text-block')\n",
        "                    if header:\n",
        "                        term = header.text.strip()\n",
        "                        return term, definitions, sublist_url\n",
        "            else:\n",
        "                print(f\"Failed to fetch {sublist_url}, status code: {sublist_response.status_code}\")\n",
        "        except Exception as e:\n",
        "            print(f\"Error processing {sublist_url}: {e}\")\n",
        "            time.sleep(2)\n",
        "    return None\n",
        "\n",
        "\n",
        "with concurrent.futures.ThreadPoolExecutor(max_workers=6) as executor:\n",
        "    future_to_url = {executor.submit(fetch_and_process, url): url for url in sublist_urls}\n",
        "\n",
        "    for future in concurrent.futures.as_completed(future_to_url):\n",
        "        result = future.result()\n",
        "        if result:\n",
        "            term, definitions, sublist_url = result\n",
        "            all_data.append([term, ', '.join(definitions), sublist_url])\n"
      ],
      "metadata": {
        "colab": {
          "base_uri": "https://localhost:8080/"
        },
        "id": "T48ivOjm7Eh5",
        "outputId": "75fba22b-4c2e-4978-c758-fd997a705f45"
      },
      "execution_count": null,
      "outputs": [
        {
          "metadata": {
            "tags": null
          },
          "name": "stdout",
          "output_type": "stream",
          "text": [
            "Error processing https://www.investopedia.com/terms/c/consumerpriceindex.asp: ('Connection broken: IncompleteRead(0 bytes read, 8186 more expected)', IncompleteRead(0 bytes read, 8186 more expected))\n"
          ]
        }
      ]
    },
    {
      "cell_type": "code",
      "source": [
        "def save_to_csv(filepath, data):\n",
        "    with open(filepath, mode='w', newline='', encoding='utf-8') as file:\n",
        "        writer = csv.writer(file)\n",
        "        writer.writerow(['Term', 'Definition', 'URL'])\n",
        "        writer.writerows(data)\n",
        "\n",
        "\n",
        "save_to_csv('investopediaWebScrapper.csv', all_data)\n",
        "\n",
        "print(\"Data saved successfully.\")"
      ],
      "metadata": {
        "id": "IU64JCI7Uwc4",
        "outputId": "1f4d65d4-c4c9-4ef7-aa23-b65fd9e7ceae",
        "colab": {
          "base_uri": "https://localhost:8080/"
        }
      },
      "execution_count": 17,
      "outputs": [
        {
          "output_type": "stream",
          "name": "stdout",
          "text": [
            "Data saved successfully.\n"
          ]
        }
      ]
    },
    {
      "cell_type": "code",
      "source": [
        "len(all_data)"
      ],
      "metadata": {
        "id": "QHycxMq3n-ek",
        "outputId": "abc77899-f9a2-44ba-9dbd-a3d8414cab36",
        "colab": {
          "base_uri": "https://localhost:8080/"
        }
      },
      "execution_count": 20,
      "outputs": [
        {
          "output_type": "execute_result",
          "data": {
            "text/plain": [
              "6064"
            ]
          },
          "metadata": {},
          "execution_count": 20
        }
      ]
    }
  ]
}